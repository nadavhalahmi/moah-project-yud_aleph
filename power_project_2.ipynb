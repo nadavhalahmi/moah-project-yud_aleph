{
 "metadata": {
  "name": "",
  "signature": "sha256:b70ccd8730bd542b678ea7b1924ccd9a73a7f856415ad2e14d6b3b2d00bc7139"
 },
 "nbformat": 3,
 "nbformat_minor": 0,
 "worksheets": [
  {
   "cells": [
    {
     "cell_type": "code",
     "collapsed": false,
     "input": [
      "def get_pressure(h): #altitude\n",
      "    p0=101325\n",
      "    l=0.0065\n",
      "    t0=288.15\n",
      "    g=9.80665\n",
      "    m=0.0289644\n",
      "    r=8.31447\n",
      "    p=p0*(1-l*h/t0)**((g*m)/(r*l))\n",
      "    return p"
     ],
     "language": "python",
     "metadata": {},
     "outputs": [],
     "prompt_number": 179
    },
    {
     "cell_type": "code",
     "collapsed": false,
     "input": [
      "def get_ro(t,h): #celsius, altitude\n",
      "    rSpecific=287.058\n",
      "    p=get_pressure(h)\n",
      "    ro=p/(rSpecific*(t+273.15))\n",
      "    return ro"
     ],
     "language": "python",
     "metadata": {},
     "outputs": [],
     "prompt_number": 180
    },
    {
     "cell_type": "code",
     "collapsed": false,
     "input": [
      "from math import *\n",
      "import sympy as sp\n",
      "m=67\n",
      "g=9.8\n",
      "sina1=-sin(math.atan(0.1))\n",
      "ro=get_ro(22,460)\n",
      "ro2=get_ro(22,230)\n",
      "v1=71.6/3.6\n",
      "sina2=-sin(math.atan(0.057))\n",
      "v2=50.8/3.6\n",
      "k1,k2=sp.symbols('k1 k2')\n",
      "Eq1=sp.Eq(sina1*m*g+0.5*ro*v1**2*k1+k2,0)\n",
      "Eq2=sp.Eq(sina2*m*g+0.5*ro2*v2**2*k1+k2,0)\n",
      "sp.solve([Eq1,Eq2],[k1,k2])"
     ],
     "language": "python",
     "metadata": {},
     "outputs": [
      {
       "metadata": {},
       "output_type": "pyout",
       "prompt_number": 194,
       "text": [
        "{k1: 0.258826063362809, k2: 7.37867068880567}"
       ]
      }
     ],
     "prompt_number": 194
    },
    {
     "cell_type": "code",
     "collapsed": false,
     "input": [
      "def Euler(f,x0,y0,x1,n):\n",
      "    x=x0\n",
      "    y=y0\n",
      "    dx=(x1-x0)/float(n)\n",
      "    x_list=[x]\n",
      "    y_list=[y]\n",
      "    for i in range(n):\n",
      "        y_list.append(y_list[-1]+f(x_list[-1],y_list[-1])*dx)\n",
      "        x_list.append(x_list[-1]+dx)\n",
      "    return x_list,y_list"
     ],
     "language": "python",
     "metadata": {},
     "outputs": [],
     "prompt_number": 182
    },
    {
     "cell_type": "code",
     "collapsed": false,
     "input": [
      "def avg (lst):\n",
      "    sumlist=0\n",
      "    for i in lst:\n",
      "        sumlist=sumlist+i\n",
      "    return float(sumlist)/len(lst)"
     ],
     "language": "python",
     "metadata": {},
     "outputs": [],
     "prompt_number": 183
    },
    {
     "cell_type": "code",
     "collapsed": false,
     "input": [
      "def check (xlist,ylist):\n",
      "    yahas=len(ylist)/len(xlist)\n",
      "    sumlist=0\n",
      "    averagex=avg(xlist)\n",
      "    averagey=avg(ylist)\n",
      "    mone=0\n",
      "    mehanex=0\n",
      "    mehaney=0\n",
      "    for i in range(len(xlist)):\n",
      "        mone=mone+(xlist[i]-averagex)*(ylist[i*yahas]-averagey)\n",
      "    for i in range(len(xlist)):\n",
      "        mehanex=mehanex+(xlist[i]-averagex)**2\n",
      "        mehaney=mehaney+(ylist[i*yahas]-averagey)**2\n",
      "    mehane=sqrt(mehanex*mehaney)\n",
      "    return float(mone)/mehane"
     ],
     "language": "python",
     "metadata": {},
     "outputs": [],
     "prompt_number": 184
    },
    {
     "cell_type": "code",
     "collapsed": false,
     "input": [
      "import pylab\n",
      "k1= 0.258826063362809\n",
      "k2= 7.37867068880567\n",
      "def f2(x,y):\n",
      "    return -(m*g*sina1+0.5*ro*k1*y**2+k2)/m\n",
      "x,y=Euler(f2, 0, 34.9/3.6, 70, 350)\n",
      "y=[i*3.6 for i in y]\n",
      "pylab.plot(x,y)\n",
      "title(\"v(t)\")\n",
      "xlabel(\"t [sec]\")\n",
      "ylabel(\"v [km/h]\")\n",
      "spd=[34.9,37.1,39.2,41.4,43.6,46.1,48.2,49.7,51.1,53.3,54,55.1,56.5,58,58.7,60.1,61.6,62.6,63.7,64.4,65.2,65.9,66.6,67.3,68,68.8,69.1,69.5,69.8,70.2,70.6,70.9,71.3,71.6,71.6]\n",
      "spd=[i for i in spd]\n",
      "time=[i for i in range(len(spd))]\n",
      "pylab.plot(time,spd,'rd')\n",
      "print \":\u05de\u05ea\u05d0\u05dd \u05e4\u05d9\u05e8\u05e1\u05d5\u05df\" \n",
      "print round(check(spd,y[:175]),4)"
     ],
     "language": "python",
     "metadata": {},
     "outputs": [
      {
       "output_type": "stream",
       "stream": "stdout",
       "text": [
        ":\u05de\u05ea\u05d0\u05dd \u05e4\u05d9\u05e8\u05e1\u05d5\u05df\n",
        "0.9984\n"
       ]
      },
      {
       "metadata": {},
       "output_type": "display_data",
       "png": "[encoded data removed]",
       "text": [
        "<matplotlib.figure.Figure at 0x1c636a90>"
       ]
      }
     ],
     "prompt_number": 195
    },
    {
     "cell_type": "code",
     "collapsed": false,
     "input": [
      "#v(sina)\n",
      "import numpy as np\n",
      "sina=sp.symbols('sina')\n",
      "Eq1=Eq(m*g*sina+k2,0)\n",
      "sina=np.arange(solve(Eq1)[0],-1,-0.001)\n",
      "v=sp.symbols('v')\n",
      "answers=[]\n",
      "for i in range(len(sina)):\n",
      "    Eq3=Eq(m*g*sina[i]+0.5*ro*v**2*k1+k2,0)\n",
      "    answer=solve(Eq3,v)[0]\n",
      "    answers.append(answer)\n",
      "answers=[i*(-3.6) for i in answers]\n",
      "sina=sina*(-1)\n",
      "pylab.plot(sina,answers)\n",
      "title(\"v(sina)\")\n",
      "xlabel(\"sina\")\n",
      "ylabel(\"v [km/h]\")"
     ],
     "language": "python",
     "metadata": {},
     "outputs": [
      {
       "metadata": {},
       "output_type": "pyout",
       "prompt_number": 192,
       "text": [
        "<matplotlib.text.Text at 0x27eb02e8>"
       ]
      },
      {
       "metadata": {},
       "output_type": "display_data",
       "png": "[encoded data removed]",
       "text": [
        "<matplotlib.figure.Figure at 0x1c855940>"
       ]
      }
     ],
     "prompt_number": 192
    },
    {
     "cell_type": "code",
     "collapsed": false,
     "input": [
      "#v(m)\n",
      "sina=-0.1\n",
      "m1=sp.symbols('m1')\n",
      "Eq1=Eq(m1*g*sina+k2,0)\n",
      "m1=np.arange(solve(Eq1)[0],100,0.1)\n",
      "v=sp.symbols('v')\n",
      "answers=[]\n",
      "for i in range(len(m1)):\n",
      "    Eq3=Eq(m1[i]*g*sina+0.5*1.184*v**2*k1+k2,0)\n",
      "    answer=solve(Eq3,v)[0]\n",
      "    answers.append(answer)\n",
      "answers=[i*(-3.6) for i in answers]\n",
      "pylab.plot(m1,answers)\n",
      "title(\"v(m)\")\n",
      "xlabel(\"m [kg]\")\n",
      "ylabel(\"v [km/h]\")"
     ],
     "language": "python",
     "metadata": {},
     "outputs": [
      {
       "metadata": {},
       "output_type": "pyout",
       "prompt_number": 193,
       "text": [
        "<matplotlib.text.Text at 0x2d3c7518>"
       ]
      },
      {
       "metadata": {},
       "output_type": "display_data",
       "png": "[encoded data removed]",
       "text": [
        "<matplotlib.figure.Figure at 0x2bccf8d0>"
       ]
      }
     ],
     "prompt_number": 193
    },
    {
     "cell_type": "code",
     "collapsed": false,
     "input": [],
     "language": "python",
     "metadata": {},
     "outputs": [],
     "prompt_number": 185
    },
    {
     "cell_type": "code",
     "collapsed": false,
     "input": [],
     "language": "python",
     "metadata": {},
     "outputs": [],
     "prompt_number": 185
    },
    {
     "cell_type": "code",
     "collapsed": false,
     "input": [],
     "language": "python",
     "metadata": {},
     "outputs": [],
     "prompt_number": 185
    },
    {
     "cell_type": "code",
     "collapsed": false,
     "input": [],
     "language": "python",
     "metadata": {},
     "outputs": [],
     "prompt_number": 185
    },
    {
     "cell_type": "code",
     "collapsed": false,
     "input": [],
     "language": "python",
     "metadata": {},
     "outputs": [],
     "prompt_number": 185
    }
   ],
   "metadata": {}
  }
 ]
}